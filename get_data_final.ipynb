{
 "cells": [
  {
   "cell_type": "code",
   "execution_count": 6,
   "metadata": {},
   "outputs": [
    {
     "name": "stdout",
     "output_type": "stream",
     "text": [
      "データ保存完了！\n"
     ]
    }
   ],
   "source": [
    "import requests\n",
    "import xml.etree.ElementTree as ET\n",
    "import json\n",
    "\n",
    "# APIリクエスト\n",
    "url = \"https://sdmx.oecd.org/public/rest/data/OECD.TAD.TPD,DSD_STRI@DF_STRI_DIGITAL,1.0/A.......?startPeriod=2020&dimensionAtObservation=AllDimensions\"\n",
    "response = requests.get(url)\n",
    "\n",
    "# XMLパース\n",
    "root = ET.fromstring(response.content)\n",
    "\n",
    "# 名前空間定義\n",
    "ns = {'mes': 'http://www.sdmx.org/resources/sdmxml/schemas/v2_1/message',\n",
    "      'gen': 'http://www.sdmx.org/resources/sdmxml/schemas/v2_1/data/generic'}\n",
    "\n",
    "# データ格納リスト\n",
    "data_list = []\n",
    "\n",
    "# Obs単位で回す\n",
    "for obs in root.findall('.//gen:Obs', ns):\n",
    "    obs_key = obs.find('gen:ObsKey', ns)\n",
    "    \n",
    "    # すべてのid, valueをDictionaryに格納\n",
    "    row = {val.attrib['id']: val.attrib['value'] for val in obs_key.findall('gen:Value', ns)}\n",
    "    \n",
    "    # 観測値(ObsValue)も追加\n",
    "    obs_value = obs.find('gen:ObsValue', ns)\n",
    "    if obs_value is not None:\n",
    "        row['OBS_VALUE'] = obs_value.attrib['value']\n",
    "    \n",
    "    data_list.append(row)\n",
    "\n",
    "# JSONに保存\n",
    "with open('digital_trade_index_all_data.json', 'w', encoding='utf-8') as f:\n",
    "    json.dump(data_list, f, indent=2, ensure_ascii=False)\n",
    "\n",
    "print(\"データ保存完了！\")\n"
   ]
  }
 ],
 "metadata": {
  "kernelspec": {
   "display_name": "use",
   "language": "python",
   "name": "python3"
  },
  "language_info": {
   "codemirror_mode": {
    "name": "ipython",
    "version": 3
   },
   "file_extension": ".py",
   "mimetype": "text/x-python",
   "name": "python",
   "nbconvert_exporter": "python",
   "pygments_lexer": "ipython3",
   "version": "3.8.8"
  }
 },
 "nbformat": 4,
 "nbformat_minor": 2
}
